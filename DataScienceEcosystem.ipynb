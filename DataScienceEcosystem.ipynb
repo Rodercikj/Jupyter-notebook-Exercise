{
  "metadata": {
    "kernelspec": {
      "name": "python",
      "display_name": "Python (Pyodide)",
      "language": "python"
    },
    "language_info": {
      "codemirror_mode": {
        "name": "python",
        "version": 3
      },
      "file_extension": ".py",
      "mimetype": "text/x-python",
      "name": "python",
      "nbconvert_exporter": "python",
      "pygments_lexer": "ipython3",
      "version": "3.8"
    }
  },
  "nbformat_minor": 5,
  "nbformat": 4,
  "cells": [
    {
      "id": "0f3eba74-51e5-4872-a8a3-a65a1fb453e6",
      "cell_type": "markdown",
      "source": "# Data Science Tools and Ecosystems",
      "metadata": {}
    },
    {
      "id": "43ec49c3-900a-4461-a299-9b5c208d6f6d",
      "cell_type": "code",
      "source": "In this notebook, Data SCience Tools and Ecosystem are summarized. ",
      "metadata": {
        "trusted": true
      },
      "outputs": [],
      "execution_count": null
    },
    {
      "id": "410b623b-a04f-4c02-97f5-4023184004c3",
      "cell_type": "markdown",
      "source": "**Objectives**\n* List popular languages for Data Science\n* List commonly used libraries\n* Show simple arithmetic",
      "metadata": {}
    },
    {
      "id": "eaac7b2a-202a-4431-a3a1-7b4db5880259",
      "cell_type": "markdown",
      "source": "Some of the popular languages that Data Scientists use are: \n1. Python\n2. SQL\n3. R",
      "metadata": {}
    },
    {
      "id": "04da15dd-d6a3-45b4-a8d8-4d9073fffca7",
      "cell_type": "markdown",
      "source": "Some of the commonly used libraries used by Data Scientists include:\n1. NumPy\n2. Pandas\n3. Matpltlib",
      "metadata": {}
    },
    {
      "id": "0ba9a071-fd78-4996-b133-d7eb4c42959c",
      "cell_type": "markdown",
      "source": "| Data Science Tools |\n|----------------------|\n| Wekas |\n| Scrapy |\n| Pandas | ",
      "metadata": {}
    },
    {
      "id": "15f02031-7a6c-461a-9020-794aa916e36b",
      "cell_type": "markdown",
      "source": "### Below are the few examples of evaluating arithmetic expressions in python ",
      "metadata": {}
    },
    {
      "id": "232f6075-5dec-4394-96d6-dbcf3221a022",
      "cell_type": "code",
      "source": "# This a simple arithmetic expression to mutiply then add integers \n\n(3*4)+5 ",
      "metadata": {
        "trusted": true
      },
      "outputs": [
        {
          "execution_count": 3,
          "output_type": "execute_result",
          "data": {
            "text/plain": "17"
          },
          "metadata": {}
        }
      ],
      "execution_count": 3
    },
    {
      "id": "47f13977-d859-4678-bbb5-5b8f57a0fd79",
      "cell_type": "code",
      "source": "# This will convert 200 minutes to hours by dividing by 60\n(200/60) ",
      "metadata": {
        "trusted": true
      },
      "outputs": [
        {
          "execution_count": 4,
          "output_type": "execute_result",
          "data": {
            "text/plain": "3.3333333333333335"
          },
          "metadata": {}
        }
      ],
      "execution_count": 4
    },
    {
      "id": "7b5ddc28-a4d2-480e-86fe-76ebcdb701dd",
      "cell_type": "code",
      "source": "",
      "metadata": {
        "trusted": true
      },
      "outputs": [],
      "execution_count": null
    },
    {
      "id": "c5a55576-6496-492a-b5d2-1de44b4dc2d3",
      "cell_type": "markdown",
      "source": "## Author \nRoderick Jones",
      "metadata": {}
    },
    {
      "id": "c87bfa2a-5ff6-42eb-93c7-70f1bf88e704",
      "cell_type": "code",
      "source": "https://jupyter.org/try-jupyter/lab/index.html?path=DataScienceEcosystem.ipynb\nDataScienceEcosystem.ipynb",
      "metadata": {
        "trusted": true
      },
      "outputs": [],
      "execution_count": null
    }
  ]
}